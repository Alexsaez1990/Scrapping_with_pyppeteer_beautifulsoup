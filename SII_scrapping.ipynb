{
 "cells": [
  {
   "cell_type": "code",
   "execution_count": 1,
   "metadata": {
    "colab": {
     "base_uri": "https://localhost:8080/"
    },
    "id": "uH4sJs3TijFn",
    "outputId": "b1da07ad-04c7-4fc2-b319-ffbd89b8352e"
   },
   "outputs": [
    {
     "name": "stdout",
     "output_type": "stream",
     "text": [
      "Defaulting to user installation because normal site-packages is not writeable\n",
      "Requirement already satisfied: requests in c:\\programdata\\anaconda3\\lib\\site-packages (2.27.1)\n",
      "Requirement already satisfied: idna<4,>=2.5 in c:\\programdata\\anaconda3\\lib\\site-packages (from requests) (3.4)\n",
      "Requirement already satisfied: certifi>=2017.4.17 in c:\\programdata\\anaconda3\\lib\\site-packages (from requests) (2023.7.22)\n",
      "Requirement already satisfied: urllib3<1.27,>=1.21.1 in c:\\programdata\\anaconda3\\lib\\site-packages (from requests) (1.26.14)\n",
      "Requirement already satisfied: charset-normalizer~=2.0.0 in c:\\programdata\\anaconda3\\lib\\site-packages (from requests) (2.0.4)\n",
      "Defaulting to user installation because normal site-packages is not writeable\n",
      "Requirement already satisfied: beautifulsoup4 in c:\\programdata\\anaconda3\\lib\\site-packages (4.11.1)\n",
      "Requirement already satisfied: soupsieve>1.2 in c:\\programdata\\anaconda3\\lib\\site-packages (from beautifulsoup4) (2.3.2.post1)\n"
     ]
    }
   ],
   "source": [
    "!pip install requests\n",
    "!pip install beautifulsoup4"
   ]
  },
  {
   "cell_type": "code",
   "execution_count": 13,
   "metadata": {
    "colab": {
     "base_uri": "https://localhost:8080/"
    },
    "id": "QDUZKdnlptyQ",
    "outputId": "9752bf97-8108-4bcf-f4d3-9df7aca0fd3d"
   },
   "outputs": [
    {
     "name": "stdout",
     "output_type": "stream",
     "text": [
      "Defaulting to user installation because normal site-packages is not writeable\n",
      "Collecting pyppeteer\n",
      "  Downloading pyppeteer-1.0.2-py3-none-any.whl (83 kB)\n",
      "     ---------------------------------------- 83.4/83.4 kB 2.4 MB/s eta 0:00:00\n",
      "Requirement already satisfied: importlib-metadata>=1.4 in c:\\programdata\\anaconda3\\lib\\site-packages (from pyppeteer) (4.11.3)\n",
      "Requirement already satisfied: certifi>=2021 in c:\\programdata\\anaconda3\\lib\\site-packages (from pyppeteer) (2023.7.22)\n",
      "Requirement already satisfied: tqdm<5.0.0,>=4.42.1 in c:\\programdata\\anaconda3\\lib\\site-packages (from pyppeteer) (4.64.1)\n",
      "Collecting pyee<9.0.0,>=8.1.0\n",
      "  Downloading pyee-8.2.2-py2.py3-none-any.whl (12 kB)\n",
      "Requirement already satisfied: urllib3<2.0.0,>=1.25.8 in c:\\programdata\\anaconda3\\lib\\site-packages (from pyppeteer) (1.26.14)\n",
      "Collecting websockets<11.0,>=10.0\n",
      "  Downloading websockets-10.4-cp310-cp310-win_amd64.whl (101 kB)\n",
      "     ---------------------------------------- 101.4/101.4 kB ? eta 0:00:00\n",
      "Requirement already satisfied: appdirs<2.0.0,>=1.4.3 in c:\\programdata\\anaconda3\\lib\\site-packages (from pyppeteer) (1.4.4)\n",
      "Requirement already satisfied: zipp>=0.5 in c:\\programdata\\anaconda3\\lib\\site-packages (from importlib-metadata>=1.4->pyppeteer) (3.11.0)\n",
      "Requirement already satisfied: colorama in c:\\programdata\\anaconda3\\lib\\site-packages (from tqdm<5.0.0,>=4.42.1->pyppeteer) (0.4.6)\n",
      "Installing collected packages: pyee, websockets, pyppeteer\n",
      "Successfully installed pyee-8.2.2 pyppeteer-1.0.2 websockets-10.4\n"
     ]
    },
    {
     "name": "stderr",
     "output_type": "stream",
     "text": [
      "  WARNING: The script pyppeteer-install.exe is installed in 'C:\\Users\\Conaf\\AppData\\Roaming\\Python\\Python310\\Scripts' which is not on PATH.\n",
      "  Consider adding this directory to PATH or, if you prefer to suppress this warning, use --no-warn-script-location.\n"
     ]
    }
   ],
   "source": [
    "!pip install pyppeteer"
   ]
  },
  {
   "cell_type": "code",
   "execution_count": 33,
   "metadata": {
    "colab": {
     "base_uri": "https://localhost:8080/",
     "height": 442
    },
    "id": "PfbJfHKTpzLN",
    "outputId": "7cfb65b0-f0bf-4f36-affb-c548bf586e54"
   },
   "outputs": [
    {
     "name": "stdout",
     "output_type": "stream",
     "text": [
      "Table data from https://www.sii.cl/sobre_el_sii/no_agricolas_arica_y_parinacota.html saved to 'C:/Users/Conaf/Desktop/Scrapping_SII/scrapping_no_agricolas.csv'\n",
      "Table data from https://www.sii.cl/sobre_el_sii/no_agricolas_tarapaca.html saved to 'C:/Users/Conaf/Desktop/Scrapping_SII/scrapping_no_agricolas.csv'\n",
      "Table data from https://www.sii.cl/sobre_el_sii/no_agricolas_antofagasta.html saved to 'C:/Users/Conaf/Desktop/Scrapping_SII/scrapping_no_agricolas.csv'\n",
      "Table data from https://www.sii.cl/sobre_el_sii/no_agricolas_atacama.html saved to 'C:/Users/Conaf/Desktop/Scrapping_SII/scrapping_no_agricolas.csv'\n",
      "Table data from https://www.sii.cl/sobre_el_sii/no_agricolas_coquimbo.html saved to 'C:/Users/Conaf/Desktop/Scrapping_SII/scrapping_no_agricolas.csv'\n",
      "Table data from https://www.sii.cl/sobre_el_sii/no_agricolas_valparaiso.html saved to 'C:/Users/Conaf/Desktop/Scrapping_SII/scrapping_no_agricolas.csv'\n",
      "Table data from https://www.sii.cl/sobre_el_sii/no_agricolas_region_bernardo_ohiggins.html saved to 'C:/Users/Conaf/Desktop/Scrapping_SII/scrapping_no_agricolas.csv'\n",
      "Table data from https://www.sii.cl/sobre_el_sii/no_agricolas_region_del_maule.html saved to 'C:/Users/Conaf/Desktop/Scrapping_SII/scrapping_no_agricolas.csv'\n",
      "Table data from https://www.sii.cl/sobre_el_sii/no_agricolas_region_del_nuble.html saved to 'C:/Users/Conaf/Desktop/Scrapping_SII/scrapping_no_agricolas.csv'\n",
      "Table data from https://www.sii.cl/sobre_el_sii/no_agricolas_region_del_bio_bio.html saved to 'C:/Users/Conaf/Desktop/Scrapping_SII/scrapping_no_agricolas.csv'\n",
      "Table data from https://www.sii.cl/sobre_el_sii/no_agricolas_la_araucania.html saved to 'C:/Users/Conaf/Desktop/Scrapping_SII/scrapping_no_agricolas.csv'\n",
      "Table data from https://www.sii.cl/sobre_el_sii/no_agricolas_los_rios.html saved to 'C:/Users/Conaf/Desktop/Scrapping_SII/scrapping_no_agricolas.csv'\n",
      "Table data from https://www.sii.cl/sobre_el_sii/no_agricolas_los_lagos.html saved to 'C:/Users/Conaf/Desktop/Scrapping_SII/scrapping_no_agricolas.csv'\n",
      "Table data from https://www.sii.cl/sobre_el_sii/no_agricolas_aysen.html saved to 'C:/Users/Conaf/Desktop/Scrapping_SII/scrapping_no_agricolas.csv'\n",
      "Table data from https://www.sii.cl/sobre_el_sii/no_agricolas_magallanes.html saved to 'C:/Users/Conaf/Desktop/Scrapping_SII/scrapping_no_agricolas.csv'\n",
      "Table data from https://www.sii.cl/sobre_el_sii/no_agricolas_metropolitana_de_santiago.html saved to 'C:/Users/Conaf/Desktop/Scrapping_SII/scrapping_no_agricolas.csv'\n",
      "Table data from https://www.sii.cl/sobre_el_sii/no_agricolas_resumen_nacional.html saved to 'C:/Users/Conaf/Desktop/Scrapping_SII/scrapping_no_agricolas.csv'\n"
     ]
    }
   ],
   "source": [
    "import asyncio\n",
    "import csv\n",
    "from pyppeteer import launch\n",
    "from bs4 import BeautifulSoup\n",
    "\n",
    "async def scrape_table_data(url, path_to_save):\n",
    "    # Launch headless Chrome\n",
    "    browser = await launch()\n",
    "    page = await browser.newPage()\n",
    "\n",
    "    # Navigate to the webpage\n",
    "    await page.goto(url)\n",
    "\n",
    "    # Wait for the table to load (you can adjust the timeout)\n",
    "    await page.waitForSelector(\"#tabledatasii\")\n",
    "\n",
    "    # Get the page content after JavaScript execution\n",
    "    page_content = await page.content()\n",
    "\n",
    "    # Close the browser\n",
    "    await browser.close()\n",
    "\n",
    "    # Now you can parse the HTML content using BeautifulSoup\n",
    "    soup = BeautifulSoup(page_content, \"html.parser\")\n",
    "    \n",
    "    # Extract the title element you specified\n",
    "    title_element = soup.find(\"h2\", {\"class\": \"title\"})\n",
    "    if title_element:\n",
    "        page_title = title_element.text.strip()\n",
    "    else:\n",
    "        page_title = \"No Title Found\"\n",
    "\n",
    "    # Extract the table data as you did before\n",
    "    table = soup.find(\"table\", {\"id\": \"tabledatasii\"})\n",
    "    if table:\n",
    "        headers = []\n",
    "        table_data = []\n",
    "        header_row = table.find(\"thead\").find(\"tr\")\n",
    "        for th in header_row.find_all(\"th\"):\n",
    "            headers.append(th.text.strip())\n",
    "        body = table.find(\"tbody\")\n",
    "        for row in body.find_all(\"tr\"):\n",
    "            row_data = [td.text.strip() for td in row.find_all(\"td\")]\n",
    "            table_data.append(row_data)\n",
    "\n",
    "        # Save the table data to a CSV file\n",
    "        with open(path_to_save, \"a\", newline=\"\") as csvfile:\n",
    "            csv_writer = csv.writer(csvfile)\n",
    "            csv_writer.writerow([page_title])\n",
    "            csv_writer.writerow(headers)  # Write headers         \n",
    "            csv_writer.writerows(table_data)  # Write data rows\n",
    "            print(f\"Table data from {url} saved to '{path_to_save}'\")\n",
    "    else:\n",
    "        print(f\"No table found on the webpage: {url}\")\n",
    "\n",
    "if __name__ == \"__main__\":\n",
    "    # CVS File to save data\n",
    "    combined_csv_path = \"WRITE_THE_PATH_TO_SAVE\"\n",
    "    # List of URLs to scrape\n",
    "    url_path_pairs = [\n",
    "        (\"https://www.sii.cl/sobre_el_sii/no_agricolas_arica_y_parinacota.html\", combined_csv_path),\n",
    "        (\"https://www.sii.cl/sobre_el_sii/no_agricolas_tarapaca.html\", combined_csv_path),\n",
    "        (\"https://www.sii.cl/sobre_el_sii/no_agricolas_antofagasta.html\", combined_csv_path),\n",
    "        (\"https://www.sii.cl/sobre_el_sii/no_agricolas_atacama.html\", combined_csv_path),\n",
    "        (\"https://www.sii.cl/sobre_el_sii/no_agricolas_coquimbo.html\", combined_csv_path),\n",
    "        (\"https://www.sii.cl/sobre_el_sii/no_agricolas_valparaiso.html\", combined_csv_path),\n",
    "        (\"https://www.sii.cl/sobre_el_sii/no_agricolas_region_bernardo_ohiggins.html\", combined_csv_path),\n",
    "        (\"https://www.sii.cl/sobre_el_sii/no_agricolas_region_del_maule.html\", combined_csv_path),\n",
    "        (\"https://www.sii.cl/sobre_el_sii/no_agricolas_region_del_nuble.html\", combined_csv_path),\n",
    "        (\"https://www.sii.cl/sobre_el_sii/no_agricolas_region_del_bio_bio.html\", combined_csv_path),\n",
    "        (\"https://www.sii.cl/sobre_el_sii/no_agricolas_la_araucania.html\", combined_csv_path),\n",
    "        (\"https://www.sii.cl/sobre_el_sii/no_agricolas_los_rios.html\", combined_csv_path),\n",
    "        (\"https://www.sii.cl/sobre_el_sii/no_agricolas_los_lagos.html\", combined_csv_path),\n",
    "        (\"https://www.sii.cl/sobre_el_sii/no_agricolas_aysen.html\", combined_csv_path),\n",
    "        (\"https://www.sii.cl/sobre_el_sii/no_agricolas_magallanes.html\", combined_csv_path),\n",
    "        (\"https://www.sii.cl/sobre_el_sii/no_agricolas_metropolitana_de_santiago.html\", combined_csv_path),\n",
    "        (\"https://www.sii.cl/sobre_el_sii/no_agricolas_resumen_nacional.html\", combined_csv_path),\n",
    "    ]\n",
    "\n",
    "    for url, path_to_save in url_path_pairs:\n",
    "        asyncio.get_event_loop().run_until_complete(scrape_table_data(url, path_to_save))"
   ]
  },
  {
   "cell_type": "code",
   "execution_count": null,
   "metadata": {
    "id": "mHfAJXl4wLLb"
   },
   "outputs": [],
   "source": []
  }
 ],
 "metadata": {
  "colab": {
   "provenance": []
  },
  "kernelspec": {
   "display_name": "Python 3 (ipykernel)",
   "language": "python",
   "name": "python3"
  },
  "language_info": {
   "codemirror_mode": {
    "name": "ipython",
    "version": 3
   },
   "file_extension": ".py",
   "mimetype": "text/x-python",
   "name": "python",
   "nbconvert_exporter": "python",
   "pygments_lexer": "ipython3",
   "version": "3.10.9"
  }
 },
 "nbformat": 4,
 "nbformat_minor": 1
}
